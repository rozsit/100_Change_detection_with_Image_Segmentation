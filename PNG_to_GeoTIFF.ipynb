{
 "cells": [
  {
   "cell_type": "code",
   "execution_count": 1,
   "id": "2906c977-922c-4911-b48a-f164e9901a7c",
   "metadata": {},
   "outputs": [
    {
     "name": "stdout",
     "output_type": "stream",
     "text": [
      "GeoTIFF saved sample_2025.tif\n"
     ]
    }
   ],
   "source": [
    "import rasterio\n",
    "from rasterio.transform import from_origin\n",
    "from PIL import Image\n",
    "import numpy as np\n",
    "\n",
    "# File parameters\n",
    "screenshot_path = \"sample_2025.png\"  # Path to the PNG screenshot\n",
    "output_tif_path = \"sample_2025.tif\"  # Output GeoTIFF path\n",
    "\n",
    "# Image © Google Earth\n",
    "# Map data © Google 2025\n",
    "\n",
    "# Coordinates of top-left and bottom-right corners in WGS84 (longitude, latitude)\n",
    "#47°11'29\"N 19°48'02\"E\n",
    "top_left_lon = 19.80056               # Actual top-left longitude\n",
    "top_left_lat = 47.19139              # Actual top-left latitude\n",
    "#47°11'18\"N 19°48'28\"E\n",
    "bottom_right_lon = 19.80778          # Actual bottom-right longitude\n",
    "bottom_right_lat = 47.18833           # Actual bottom-right latitude\n",
    "\n",
    "# Read PNG image and convert to RGBA\n",
    "img = Image.open(screenshot_path).convert(\"RGBA\")\n",
    "arr = np.array(img)\n",
    "height, width = arr.shape[0], arr.shape[1]\n",
    "\n",
    "# Calculate pixel size automatically\n",
    "pixel_size_x = (bottom_right_lon - top_left_lon) / width\n",
    "pixel_size_y = (top_left_lat - bottom_right_lat) / height\n",
    "\n",
    "# Create affine transform for georeferencing\n",
    "transform = from_origin(top_left_lon, top_left_lat, pixel_size_x, pixel_size_y)\n",
    "\n",
    "# Write to GeoTIFF with EPSG:4326\n",
    "with rasterio.open(\n",
    "    output_tif_path,\n",
    "    \"w\",\n",
    "    driver=\"GTiff\",\n",
    "    height=height,\n",
    "    width=width,\n",
    "    count=4,\n",
    "    dtype=arr.dtype,\n",
    "    crs=\"EPSG:4326\",\n",
    "    transform=transform\n",
    ") as dst:\n",
    "    for i in range(4):\n",
    "        dst.write(arr[:, :, i], i+1)\n",
    "\n",
    "print(f\"GeoTIFF saved: {output_tif_path}\")"
   ]
  },
  {
   "cell_type": "code",
   "execution_count": null,
   "id": "0d617d10-ff51-4d9c-9b09-9a3499b25c70",
   "metadata": {},
   "outputs": [],
   "source": []
  }
 ],
 "metadata": {
  "kernelspec": {
   "display_name": "GEOenv",
   "language": "python",
   "name": "env"
  },
  "language_info": {
   "codemirror_mode": {
    "name": "ipython",
    "version": 3
   },
   "file_extension": ".py",
   "mimetype": "text/x-python",
   "name": "python",
   "nbconvert_exporter": "python",
   "pygments_lexer": "ipython3",
   "version": "3.12.1"
  }
 },
 "nbformat": 4,
 "nbformat_minor": 5
}
